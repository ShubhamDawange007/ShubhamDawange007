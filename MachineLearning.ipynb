{
  "nbformat": 4,
  "nbformat_minor": 0,
  "metadata": {
    "colab": {
      "provenance": [],
      "authorship_tag": "ABX9TyMiGY4KH+3bp6sCCDJ97eVQ",
      "include_colab_link": true
    },
    "kernelspec": {
      "name": "python3",
      "display_name": "Python 3"
    },
    "language_info": {
      "name": "python"
    }
  },
  "cells": [
    {
      "cell_type": "markdown",
      "metadata": {
        "id": "view-in-github",
        "colab_type": "text"
      },
      "source": [
        "<a href=\"https://colab.research.google.com/github/ShubhamDawange007/ShubhamDawange007/blob/main/MachineLearning.ipynb\" target=\"_parent\"><img src=\"https://colab.research.google.com/assets/colab-badge.svg\" alt=\"Open In Colab\"/></a>"
      ]
    },
    {
      "cell_type": "code",
      "source": [
        "import sys\n",
        "print('python : {} '.format(sys.version))\n",
        "\n",
        "import scipy\n",
        "print('scipy: {}'.format(scipy.version))\n",
        "\n",
        "import numpy\n",
        "print('numpy: {}'.format(numpy.version))\n",
        "\n",
        "import pandas\n",
        "print('pandas: {}'.format(pandas._version))\n",
        "\n",
        "import matplotlib\n",
        "print('matplotlib: {}'.format(matplotlib._version))\n",
        "\n",
        "import sklearn\n",
        "print('sklearn: {}'.format(sklearn.__version__))"
      ],
      "metadata": {
        "colab": {
          "base_uri": "https://localhost:8080/"
        },
        "id": "h8R-roO2h60m",
        "outputId": "98e8fc10-cebb-4ccc-aa31-bebdb36fd872"
      },
      "execution_count": 10,
      "outputs": [
        {
          "output_type": "stream",
          "name": "stdout",
          "text": [
            "python : 3.10.12 (main, Jun 11 2023, 05:26:28) [GCC 11.4.0] \n",
            "scipy: <module 'scipy.version' from '/usr/local/lib/python3.10/dist-packages/scipy/version.py'>\n",
            "numpy: <module 'numpy.version' from '/usr/local/lib/python3.10/dist-packages/numpy/version.py'>\n",
            "pandas: <module 'pandas._version' from '/usr/local/lib/python3.10/dist-packages/pandas/_version.py'>\n",
            "matplotlib: <module 'matplotlib._version' from '/usr/local/lib/python3.10/dist-packages/matplotlib/_version.py'>\n",
            "sklearn: 1.2.2\n"
          ]
        }
      ]
    },
    {
      "cell_type": "code",
      "source": [],
      "metadata": {
        "id": "NGFwaBWviVOZ"
      },
      "execution_count": null,
      "outputs": []
    },
    {
      "cell_type": "code",
      "source": [],
      "metadata": {
        "id": "d8KXNF4GBpez"
      },
      "execution_count": null,
      "outputs": []
    },
    {
      "cell_type": "code",
      "source": [],
      "metadata": {
        "id": "GRjNIVmMBpiB"
      },
      "execution_count": null,
      "outputs": []
    },
    {
      "cell_type": "code",
      "source": [],
      "metadata": {
        "id": "636KrfITBplM"
      },
      "execution_count": null,
      "outputs": []
    },
    {
      "cell_type": "code",
      "source": [],
      "metadata": {
        "id": "o-rp3eVvh7Pz"
      },
      "execution_count": null,
      "outputs": []
    }
  ]
}